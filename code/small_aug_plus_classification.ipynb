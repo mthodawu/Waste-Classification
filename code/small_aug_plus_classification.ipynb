{
  "cells": [
    {
      "cell_type": "code",
      "execution_count": 4,
      "metadata": {},
      "outputs": [],
      "source": [
        "# %pip install tensorflow"
      ]
    },
    {
      "cell_type": "markdown",
      "metadata": {
        "id": "zb0SsiMg4_Qe"
      },
      "source": [
        "# **Visualise images generated from Data Augmentation** \n"
      ]
    },
    {
      "cell_type": "code",
      "execution_count": null,
      "metadata": {
        "colab": {
          "base_uri": "https://localhost:8080/",
          "height": 1000
        },
        "id": "C3IEQvNh5UsF",
        "outputId": "849b78a8-5945-4e99-a2d7-2ab550074f94"
      },
      "outputs": [],
      "source": [
        "# Visualize N images with data augmentation applied,\n",
        "# where N = n_images_shown can be chosen by the user.\n",
        "\n",
        "import os\n",
        "import glob\n",
        "from numpy import expand_dims\n",
        "import cv2\n",
        "import matplotlib.pyplot as plt\n",
        "from pathlib import Path\n",
        "\n",
        "n_images_shown = 4             # This parameter can be modified by the user\n",
        "\n",
        "for class_tag in classes:\n",
        "  input_path = 'G:\\My Drive\\Datasets\\ ' + dataset_name + '/' + class_tag + '/'\n",
        "  output_path = 'G:\\My Drive\\Datasets\\ ' + dataset_name + '/' + new_dataset + '/' + class_tag + '/'\n",
        "\n",
        "  counter = 0\n",
        "  for filename in os.listdir(input_path):\n",
        "    if filename.endswith(\".jpg\"):\n",
        "\n",
        "      if counter > n_images_shown:\n",
        "        break\n",
        "\n",
        "      # Show the obtained AUGMENTATED IMAGES (plus ORIGINAL IMAGE) for the specific orginal image\n",
        "      print(filename)\n",
        "      transformation_array_size = len(transformation_array)\n",
        "      # Define subplot\n",
        "      fig = plt.figure(figsize=(30,20))\n",
        "      columns = 4\n",
        "      rows = transformation_array_size // columns + 1\n",
        "      # Sort images by creation date to obtain \"original\" as first image\n",
        "      files_sorted = list(filter(os.path.isfile, glob.glob(output_path + Path(filename).stem + \"*.jpg\")))\n",
        "      files_sorted.sort(key=lambda x: os.path.getmtime(x))\n",
        "      #print(files_sorted)\n",
        "      index = 0\n",
        "      for filename_out in files_sorted:\n",
        "        #print(filename_out)\n",
        "        # Load image\n",
        "        aug_img = load_img(filename_out)\n",
        "        # Converting the input sample image to an array\n",
        "        data = img_to_array(aug_img)\n",
        "        # Reshaping the input image expand dimension to one sample\n",
        "        samples = expand_dims(data, 0)\n",
        "        # Plot augmented image\n",
        "        ax1 = fig.add_subplot(rows, columns, index + 1)\n",
        "        ax1.title.set_text((Path(filename_out).stem).split('_')[3])\n",
        "        plt.imshow(aug_img)\n",
        "        index = index + 1\n",
        "      print(\"Augmented images:\")\n",
        "      plt.show()\n",
        "      #fig.savefig(filename)\n",
        "      print(\"\\n\\n\")\n",
        "    counter = counter + 1\n",
        "\n"
      ]
    },
    {
      "cell_type": "markdown",
      "metadata": {
        "id": "hwkkZI_H5qGt"
      },
      "source": [
        "# **Save Augmented Dataset**"
      ]
    },
    {
      "cell_type": "code",
      "execution_count": null,
      "metadata": {
        "id": "dD5LZX705zhd"
      },
      "outputs": [],
      "source": [
        "#@title Save your data to Google drive\n",
        "filename = \"augmented_small\" #@param {type:\"string\"}\n",
        "folders_to_save = \"/content/waste_dataset/augmented_small\" #@param {type:\"string\"}\n",
        "\n",
        "from google.colab import files\n",
        "from google.colab import auth\n",
        "from googleapiclient.http import MediaFileUpload\n",
        "from googleapiclient.discovery import build\n",
        "\n",
        "\n",
        "def save_file_to_drive(name, path):\n",
        "    file_metadata = {\n",
        "    'name': name,\n",
        "    'mimeType': 'application/octet-stream'\n",
        "    }\n",
        "    media = MediaFileUpload(path,\n",
        "                  mimetype='application/octet-stream',\n",
        "                  resumable=True)\n",
        "    created = drive_service.files().create(body=file_metadata, media_body=media, fields='id').execute()\n",
        "    print('File ID: {}'.format(created.get('id')))\n",
        "    return created\n",
        "\n",
        "\n",
        "# Create archive\n",
        "extension_zip = \".zip\"\n",
        "zip_file = filename + extension_zip\n",
        "!zip -r $zip_file {folders_to_save}\n",
        "\n",
        "# Save archive to your Google Drive\n",
        "auth.authenticate_user()\n",
        "drive_service = build('drive', 'v3')\n",
        "destination_name = zip_file\n",
        "path_to_file = zip_file\n",
        "save_file_to_drive(destination_name, path_to_file)\n",
        "!ls\n",
        "\n",
        "print(\"Done!\")\n"
      ]
    },
    {
      "cell_type": "markdown",
      "metadata": {
        "id": "pcbbdKxvKGKF"
      },
      "source": [
        "# Classification\n"
      ]
    },
    {
      "cell_type": "markdown",
      "metadata": {
        "id": "PrhetzCXYVgu"
      },
      "source": [
        "Import necessary libraries, set up paths, split the dataset"
      ]
    },
    {
      "cell_type": "code",
      "execution_count": 6,
      "metadata": {},
      "outputs": [],
      "source": [
        "# %pip install tensorflow\n",
        "# %pip install scikit-learn\n",
        "# %pip install seaborn matplotlib pandas"
      ]
    },
    {
      "cell_type": "code",
      "execution_count": 7,
      "metadata": {
        "colab": {
          "base_uri": "https://localhost:8080/"
        },
        "id": "HpDeo4-PYaAz",
        "outputId": "37a18a86-de55-420f-b6b6-c568525137ca"
      },
      "outputs": [
        {
          "name": "stdout",
          "output_type": "stream",
          "text": [
            "Found 2022 images belonging to 2 classes.\n",
            "Found 505 images belonging to 2 classes.\n",
            "Found 2527 images belonging to 2 classes.\n"
          ]
        }
      ],
      "source": [
        "from tensorflow.keras.preprocessing.image import ImageDataGenerator\n",
        "from sklearn.model_selection import train_test_split\n",
        "import os\n",
        "from tensorflow.keras.backend import clear_session\n",
        "\n",
        "clear_session()  # This frees the GPU memory, peventing training deadlock\n",
        "global classez\n",
        "classez = ['metal', 'other']\n",
        "# data path\n",
        "global dataset_path\n",
        "dataset_path = f'/app/data/Datasets/{classez[0]}_and_{classez[1]}'  # <- docker file path      # \"G:\\My Drive\\Datasets\\ \"\n",
        "\n",
        "tar = (224, 224)\n",
        "batch = 16 # 16\n",
        "#Split the dataset\n",
        "# Create an ImageDataGenerator for each subset\n",
        "datagen = ImageDataGenerator(rescale=1./255, validation_split=0.2)  # 20% for validation\n",
        "\n",
        "# Training data generator\n",
        "train_generator = datagen.flow_from_directory(\n",
        "    dataset_path,\n",
        "    target_size=tar,\n",
        "    batch_size=batch,\n",
        "    class_mode='binary',\n",
        "    subset='training')  # Set as training data\n",
        "\n",
        "# Validation data generator\n",
        "validation_generator = datagen.flow_from_directory(\n",
        "    dataset_path,\n",
        "    target_size=tar,\n",
        "    batch_size=batch,\n",
        "    class_mode='binary',\n",
        "    subset='validation')  # Set as validation data\n",
        "\n",
        "# Create a separate ImageDataGenerator for test data\n",
        "test_datagen = ImageDataGenerator(rescale=1./255)\n",
        "\n",
        "# Test data generator\n",
        "test_generator = test_datagen.flow_from_directory(\n",
        "    dataset_path,\n",
        "    target_size=tar,\n",
        "    batch_size=batch,\n",
        "    class_mode='binary')  # No subset for testing\n",
        "\n",
        "\n"
      ]
    },
    {
      "cell_type": "markdown",
      "metadata": {
        "id": "2IBYvW48Y5tP"
      },
      "source": [
        "###### 5. Create training, validation, and testing splits manually:"
      ]
    },
    {
      "cell_type": "code",
      "execution_count": 8,
      "metadata": {
        "id": "yEsP4yrMY9aW"
      },
      "outputs": [],
      "source": [
        "from sklearn.model_selection import train_test_split\n",
        "import shutil\n",
        "\n",
        "# Function to create directories\n",
        "def create_dir(path):\n",
        "    if not os.path.exists(path):\n",
        "        os.makedirs(path)\n",
        "\n",
        "# Paths to save splits\n",
        "base_dir = f'/app/data/Datasets/{classez[0]}_and_{classez[1]}-split'  # \"G:\\My Drive\\Datasets\\Trashnet-resized-split\"\n",
        "train_dir = os.path.join(base_dir, 'train')\n",
        "val_dir = os.path.join(base_dir, 'val')\n",
        "test_dir = os.path.join(base_dir, 'test')\n",
        "\n",
        "create_dir(base_dir)\n",
        "create_dir(train_dir)\n",
        "create_dir(val_dir)\n",
        "create_dir(test_dir)\n",
        "\n",
        "for class_name in classez: #, 'cardboard', 'metal', 'paper', 'plastic', 'trash']:\n",
        "    # Create class directories\n",
        "    create_dir(os.path.join(train_dir, class_name))\n",
        "    create_dir(os.path.join(val_dir, class_name))\n",
        "    create_dir(os.path.join(test_dir, class_name))\n",
        "\n",
        "    # List all files in the class directory\n",
        "    class_files = os.listdir(os.path.join(dataset_path, class_name))\n",
        "    train_files, test_files = train_test_split(class_files, test_size=0.2, random_state=42)  # 20% for testing\n",
        "    train_files, val_files = train_test_split(train_files, test_size=0.25, random_state=42)  # 20% of remaining for validation (0.25 * 0.8 = 0.2)\n",
        "\n",
        "    # Copy files to respective directories\n",
        "    for file in train_files:\n",
        "        shutil.copy(os.path.join(dataset_path, class_name, file), os.path.join(train_dir, class_name, file))\n",
        "\n",
        "    for file in val_files:\n",
        "        shutil.copy(os.path.join(dataset_path, class_name, file), os.path.join(val_dir, class_name, file))\n",
        "\n",
        "    for file in test_files:\n",
        "        shutil.copy(os.path.join(dataset_path, class_name, file), os.path.join(test_dir, class_name, file))\n"
      ]
    },
    {
      "cell_type": "markdown",
      "metadata": {
        "id": "NOY_zwYiY-lX"
      },
      "source": [
        "###### 6. Load the manually split data"
      ]
    },
    {
      "cell_type": "code",
      "execution_count": 9,
      "metadata": {
        "colab": {
          "base_uri": "https://localhost:8080/"
        },
        "id": "3RY_NecJZD1C",
        "outputId": "1bc50100-5afa-43a6-ab5f-e6db70bd4240"
      },
      "outputs": [
        {
          "name": "stdout",
          "output_type": "stream",
          "text": [
            "Found 1515 images belonging to 2 classes.\n",
            "Found 506 images belonging to 2 classes.\n",
            "Found 506 images belonging to 2 classes.\n"
          ]
        }
      ],
      "source": [
        "train_generator = datagen.flow_from_directory(\n",
        "    train_dir,\n",
        "    target_size=tar,\n",
        "    batch_size=batch,\n",
        "    class_mode='binary'\n",
        "    # ,color_mode='grayscale'\n",
        "    )\n",
        "\n",
        "validation_generator = datagen.flow_from_directory(\n",
        "    val_dir,\n",
        "    target_size=tar,\n",
        "    batch_size=batch,\n",
        "    class_mode='binary'\n",
        "    # ,color_mode='grayscale'\n",
        "    )\n",
        "\n",
        "test_generator = test_datagen.flow_from_directory(\n",
        "    test_dir,\n",
        "    target_size=tar,\n",
        "    batch_size=batch,\n",
        "    class_mode='binary'\n",
        "    # ,color_mode='grayscale'\n",
        "    )\n"
      ]
    },
    {
      "cell_type": "code",
      "execution_count": 10,
      "metadata": {
        "colab": {
          "base_uri": "https://localhost:8080/"
        },
        "id": "tiCI1Bj0joGc",
        "outputId": "8fa649fb-376a-410b-8836-9b380e4bf18d"
      },
      "outputs": [
        {
          "data": {
            "text/plain": [
              "{'metal': 0, 'other': 1}"
            ]
          },
          "metadata": {},
          "output_type": "display_data"
        },
        {
          "data": {
            "text/plain": [
              "(224, 224, 3)"
            ]
          },
          "metadata": {},
          "output_type": "display_data"
        },
        {
          "data": {
            "text/plain": [
              "(224, 224, 3)"
            ]
          },
          "metadata": {},
          "output_type": "display_data"
        }
      ],
      "source": [
        "display(train_generator.class_indices)\n",
        "display(test_generator.image_shape)\n",
        "display(train_generator.image_shape)"
      ]
    },
    {
      "cell_type": "markdown",
      "metadata": {
        "id": "UbFr0vpeYa3k"
      },
      "source": [
        "Classifying"
      ]
    },
    {
      "cell_type": "code",
      "execution_count": 14,
      "metadata": {},
      "outputs": [],
      "source": [
        "# %pip install seaborn matplotlib pandas"
      ]
    },
    {
      "cell_type": "code",
      "execution_count": 15,
      "metadata": {
        "id": "WIIuAn7vKMCF"
      },
      "outputs": [],
      "source": [
        "import os\n",
        "import numpy as np\n",
        "import pandas as pd\n",
        "import matplotlib.pyplot as plt\n",
        "import seaborn as sns\n",
        "from PIL import Image\n",
        "\n",
        "import tensorflow as tf\n",
        "from tensorflow.keras.preprocessing import image\n",
        "from tensorflow.keras.preprocessing.image import ImageDataGenerator\n",
        "from tensorflow.keras.models import Model\n",
        "from tensorflow.keras.models import Sequential\n",
        "from tensorflow.keras.layers import Dropout, Dense, Flatten\n",
        "from tensorflow.keras.models import load_model\n",
        "from tensorflow.keras import mixed_precision\n",
        "\n",
        "# Enable mixed precision training\n",
        "mixed_precision.set_global_policy('mixed_float16')\n",
        "\n",
        "import warnings\n",
        "warnings.filterwarnings('ignore')"
      ]
    },
    {
      "cell_type": "markdown",
      "metadata": {
        "id": "irkkMAiPbhUI"
      },
      "source": [
        "Creating the model"
      ]
    },
    {
      "cell_type": "code",
      "execution_count": 16,
      "metadata": {
        "colab": {
          "base_uri": "https://localhost:8080/"
        },
        "id": "wTixQxJSdCnD",
        "outputId": "05ad8c45-37fb-438f-f14f-b6a6c3c820cc"
      },
      "outputs": [
        {
          "name": "stderr",
          "output_type": "stream",
          "text": [
            "WARNING: All log messages before absl::InitializeLog() is called are written to STDERR\n",
            "I0000 00:00:1728299576.194127      12 cuda_executor.cc:1015] successful NUMA node read from SysFS had negative value (-1), but there must be at least one NUMA node, so returning NUMA node zero. See more at https://github.com/torvalds/linux/blob/v6.0/Documentation/ABI/testing/sysfs-bus-pci#L344-L355\n",
            "I0000 00:00:1728299576.234558      12 cuda_executor.cc:1015] successful NUMA node read from SysFS had negative value (-1), but there must be at least one NUMA node, so returning NUMA node zero. See more at https://github.com/torvalds/linux/blob/v6.0/Documentation/ABI/testing/sysfs-bus-pci#L344-L355\n",
            "I0000 00:00:1728299576.234801      12 cuda_executor.cc:1015] successful NUMA node read from SysFS had negative value (-1), but there must be at least one NUMA node, so returning NUMA node zero. See more at https://github.com/torvalds/linux/blob/v6.0/Documentation/ABI/testing/sysfs-bus-pci#L344-L355\n",
            "I0000 00:00:1728299576.236848      12 cuda_executor.cc:1015] successful NUMA node read from SysFS had negative value (-1), but there must be at least one NUMA node, so returning NUMA node zero. See more at https://github.com/torvalds/linux/blob/v6.0/Documentation/ABI/testing/sysfs-bus-pci#L344-L355\n",
            "I0000 00:00:1728299576.237056      12 cuda_executor.cc:1015] successful NUMA node read from SysFS had negative value (-1), but there must be at least one NUMA node, so returning NUMA node zero. See more at https://github.com/torvalds/linux/blob/v6.0/Documentation/ABI/testing/sysfs-bus-pci#L344-L355\n",
            "I0000 00:00:1728299576.237184      12 cuda_executor.cc:1015] successful NUMA node read from SysFS had negative value (-1), but there must be at least one NUMA node, so returning NUMA node zero. See more at https://github.com/torvalds/linux/blob/v6.0/Documentation/ABI/testing/sysfs-bus-pci#L344-L355\n",
            "I0000 00:00:1728299576.297132      12 cuda_executor.cc:1015] successful NUMA node read from SysFS had negative value (-1), but there must be at least one NUMA node, so returning NUMA node zero. See more at https://github.com/torvalds/linux/blob/v6.0/Documentation/ABI/testing/sysfs-bus-pci#L344-L355\n",
            "I0000 00:00:1728299576.297253      12 cuda_executor.cc:1015] successful NUMA node read from SysFS had negative value (-1), but there must be at least one NUMA node, so returning NUMA node zero. See more at https://github.com/torvalds/linux/blob/v6.0/Documentation/ABI/testing/sysfs-bus-pci#L344-L355\n",
            "I0000 00:00:1728299576.297323      12 cuda_executor.cc:1015] successful NUMA node read from SysFS had negative value (-1), but there must be at least one NUMA node, so returning NUMA node zero. See more at https://github.com/torvalds/linux/blob/v6.0/Documentation/ABI/testing/sysfs-bus-pci#L344-L355\n",
            "2024-10-07 11:12:56.297766: I tensorflow/core/common_runtime/gpu/gpu_device.cc:2021] Created device /job:localhost/replica:0/task:0/device:GPU:0 with 3478 MB memory:  -> device: 0, name: NVIDIA GeForce GTX 1050 Ti, pci bus id: 0000:01:00.0, compute capability: 6.1\n"
          ]
        },
        {
          "name": "stdout",
          "output_type": "stream",
          "text": [
            "Downloading data from https://storage.googleapis.com/tensorflow/keras-applications/densenet/densenet201_weights_tf_dim_ordering_tf_kernels_notop.h5\n",
            "\u001b[1m74836368/74836368\u001b[0m \u001b[32m━━━━━━━━━━━━━━━━━━━━\u001b[0m\u001b[37m\u001b[0m \u001b[1m6s\u001b[0m 0us/step\n"
          ]
        }
      ],
      "source": [
        "img_shape = (224,224,3)\n",
        "img_size = tar\n",
        "batch_size = batch #16 #32\n",
        "num_classes = 2\n",
        "log_file = '/app/data/code/log_final.csv'\n",
        "\n",
        "# DenseNet201 # MobileNetV3 # EfficientNetB0\n",
        "base_model = tf.keras.applications.DenseNet201(input_shape=img_shape,\n",
        "                                               include_top=False,\n",
        "                                               weights='imagenet')\n",
        "\n",
        "model_name = base_model.name #'EfficientNetB0' # 'DenseNet201' # 'MobileNetV2'\n",
        "# print(model_name)"
      ]
    },
    {
      "cell_type": "markdown",
      "metadata": {
        "id": "WKWXYwIlfiQe"
      },
      "source": [
        "Freeze layers"
      ]
    },
    {
      "cell_type": "code",
      "execution_count": 17,
      "metadata": {
        "id": "IUhSZ_BEfkT-"
      },
      "outputs": [],
      "source": [
        "base_model.trainable = False\n",
        "for layer in base_model.layers[-6:]:\n",
        "     layer.trainable = True\n"
      ]
    },
    {
      "cell_type": "markdown",
      "metadata": {
        "id": "uuk4lcjsfnju"
      },
      "source": [
        "**Model 1**\n",
        "The model 1 consists of Flatten layer, then we added two Dense layers with one Dropout layer as well"
      ]
    },
    {
      "cell_type": "code",
      "execution_count": 18,
      "metadata": {},
      "outputs": [],
      "source": [
        "from tensorflow.keras.callbacks import Callback, EarlyStopping, ReduceLROnPlateau\n",
        "\n",
        "class AccuracyLogger(Callback):\n",
        "    def __init__(self,   log_file, model_name, img_shape, batch_size, num_classes):\n",
        "        super().__init__()\n",
        "        self.log_file = log_file\n",
        "        self.model_name = model_name\n",
        "        self.img_shape = img_shape\n",
        "        self.batch_size = batch_size\n",
        "        self.num_classes = num_classes\n",
        "        \n",
        "        # self.summary = summary\n",
        "\n",
        "        # Write model and dataset information at the beginning of the log file\n",
        "        with open(self.log_file, 'a') as f:\n",
        "            f.write(f\"\\nModel: {self.model_name}\\n\")\n",
        "            # f.write(f\"Model summary:{self.summary}\\n\")\n",
        "            f.write(f\"Image shape: {self.img_shape}\\n\")\n",
        "            f.write(f\"Batch size: {self.batch_size}\\n\")\n",
        "            f.write(f\"Dataset: {dataset_path}\\n\")\n",
        "            f.write(f\"Number of classes: {self.num_classes}\\n\\n\")\n",
        "            f.write('Epoch,Accuracy,Validation Accuracy, Loss, Validation Loss\\n')\n",
        "            f.flush()\n",
        "\n",
        "    def on_epoch_end(self, epoch, logs=None):\n",
        "        logs = logs or {}\n",
        "        accuracy = logs.get('accuracy')\n",
        "        val_accuracy = logs.get('val_accuracy')\n",
        "        loss = logs.get('loss')\n",
        "        val_loss = logs.get('val_loss')\n",
        "\n",
        "        # Write the epoch, accuracy, and validation accuracy to the log file\n",
        "        with open(self.log_file, 'a') as f:\n",
        "            f.write(f\"{epoch + 1},{accuracy},{val_accuracy},{loss},{val_loss}\\n\")\n",
        "            f.flush()"
      ]
    },
    {
      "cell_type": "code",
      "execution_count": 19,
      "metadata": {
        "colab": {
          "base_uri": "https://localhost:8080/"
        },
        "id": "xX7-lIQPfql-",
        "outputId": "ad6dd7f5-62ac-43b1-90d0-97f264bdf100"
      },
      "outputs": [
        {
          "name": "stdout",
          "output_type": "stream",
          "text": [
            "Epoch 1/100\n"
          ]
        },
        {
          "name": "stderr",
          "output_type": "stream",
          "text": [
            "WARNING: All log messages before absl::InitializeLog() is called are written to STDERR\n",
            "I0000 00:00:1728299596.143438     188 service.cc:146] XLA service 0x75feb00dfed0 initialized for platform CUDA (this does not guarantee that XLA will be used). Devices:\n",
            "I0000 00:00:1728299596.143461     188 service.cc:154]   StreamExecutor device (0): NVIDIA GeForce GTX 1050 Ti, Compute Capability 6.1\n",
            "2024-10-07 11:13:16.670788: I tensorflow/compiler/mlir/tensorflow/utils/dump_mlir_util.cc:268] disabling MLIR crash reproducer, set env var `MLIR_CRASH_REPRODUCER_DIRECTORY` to enable.\n",
            "2024-10-07 11:13:18.859245: I external/local_xla/xla/stream_executor/cuda/cuda_dnn.cc:531] Loaded cuDNN version 8906\n"
          ]
        }
      ],
      "source": [
        "# import io\n",
        "# from contextlib import redirect_stdout\n",
        "model = tf.keras.Sequential([base_model,\n",
        "                            #  tf.keras.layers.Flatten(),\n",
        "                             tf.keras.layers.GlobalAveragePooling2D(),\n",
        "                            #  tf.keras.layers.Dense(batch, activation=\"relu\"),\n",
        "                             tf.keras.layers.Dropout(0.2),\n",
        "                             tf.keras.layers.Dense(1, activation=\"sigmoid\")\n",
        "                            #  tf.keras.layers.Dense(2, activation=\"softmax\")\n",
        "                             ])\n",
        "\n",
        "lr_reduction = ReduceLROnPlateau(monitor='val_loss', \n",
        "                                 patience=2, \n",
        "                                 factor=0.3, #0.5,\n",
        "                                 verbose=1, \n",
        "                                 min_lr=0.01) #0.01)\n",
        "model.compile(optimizer = 'sgd',\n",
        "              loss = 'binary_crossentropy',\n",
        "              metrics = ['accuracy'])\n",
        "\n",
        "#Train for 10 epochs\n",
        "steps_per_epoch=int(len(train_generator)/batch_size)\n",
        "validation_steps = validation_generator.samples // validation_generator.batch_size\n",
        "\n",
        "\n",
        "# Train the model\n",
        "history = model.fit(\n",
        "    train_generator,\n",
        "    steps_per_epoch=steps_per_epoch,\n",
        "    validation_data=validation_generator,\n",
        "    callbacks=[AccuracyLogger(  log_file, model_name, img_shape, batch_size, num_classes),\n",
        "                EarlyStopping(patience=5)],\n",
        "    epochs=100,\n",
        "    verbose=1\n",
        ")\n",
        "\n"
      ]
    },
    {
      "cell_type": "markdown",
      "metadata": {
        "id": "ZaSNU7tdi_CX"
      },
      "source": [
        "Visualising training results"
      ]
    },
    {
      "cell_type": "code",
      "execution_count": null,
      "metadata": {},
      "outputs": [
        {
          "name": "stdout",
          "output_type": "stream",
          "text": [
            "Graph saved at: /app/data/graphs/metal_and_other_30epoch_batch16_MobileNetV3Small.png\n"
          ]
        },
        {
          "data": {
            "image/png": "[encoded data removed]",
            "text/plain": [
              "<Figure size 1200x500 with 2 Axes>"
            ]
          },
          "metadata": {},
          "output_type": "display_data"
        }
      ],
      "source": [
        "import os\n",
        "import matplotlib.pyplot as plt\n",
        "\n",
        "def plot_graphs(history, batch_size):\n",
        "    fig, axs = plt.subplots(1, 2, figsize=(12, 5))  # 1 row, 2 columns\n",
        "\n",
        "    # Plot accuracy\n",
        "    axs[0].plot(history.history['accuracy'])\n",
        "    axs[0].plot(history.history['val_accuracy'])\n",
        "    axs[0].set_title(\"Model Accuracy\")\n",
        "    axs[0].set_xlabel(\"Epochs\")\n",
        "    axs[0].set_ylabel(\"Accuracy\")\n",
        "    axs[0].legend(['Train', 'Validation'])\n",
        "\n",
        "    # Plot loss\n",
        "    axs[1].plot(history.history['loss'])\n",
        "    axs[1].plot(history.history['val_loss'])\n",
        "    axs[1].set_title(\"Model Loss\")\n",
        "    axs[1].set_xlabel(\"Epochs\")\n",
        "    axs[1].set_ylabel(\"Loss\")\n",
        "    axs[1].legend(['Train', 'Validation'])\n",
        "\n",
        "    plt.tight_layout()  # Adjust layout to make sure plots don't overlap\n",
        "\n",
        "    # Ensure the save directory exists\n",
        "    save_dir = '/app/data/graphs/'\n",
        "    os.makedirs(save_dir, exist_ok=True)\n",
        "\n",
        "    # Create the filename using the dataset path and batch size\n",
        "    dataset_name = os.path.basename(dataset_path[18:])  # filter out '/app/data/Datasets/' \n",
        "    filename = f\"{dataset_name}_100epoch_batch{batch_size}_{model_name}.png\"\n",
        "\n",
        "    # Save the figure\n",
        "    save_path = os.path.join(save_dir, filename)\n",
        "    plt.savefig(save_path)\n",
        "    print(f\"Graph saved at: {save_path}\")\n",
        "\n",
        "    plt.show()\n",
        "\n",
        "# plot\n",
        "plot_graphs(history, batch)\n"
      ]
    },
    {
      "cell_type": "markdown",
      "metadata": {
        "id": "KnaIwJNnjKMC"
      },
      "source": [
        "Prediction for Model 1:\n"
      ]
    },
    {
      "cell_type": "code",
      "execution_count": null,
      "metadata": {},
      "outputs": [],
      "source": [
        "# import numpy as np\n",
        "from sklearn.metrics import precision_recall_fscore_support, confusion_matrix, average_precision_score\n",
        "# import seaborn as sns\n",
        "# import matplotlib.pyplot as plt\n",
        "\n",
        "loss, accuracy = model.evaluate(test_generator, verbose=False)\n",
        "# Predict on test data\n",
        "y_pred = model.predict(test_generator)\n",
        "y_pred_classes = np.argmax(y_pred, axis=1)\n",
        "y_true = test_generator.classes\n",
        "\n",
        "# Calculate precision, recall, and F1 score\n",
        "precision, recall, f1, _ = precision_recall_fscore_support(y_true, y_pred_classes, average='weighted')\n",
        "\n",
        "# Calculate mAP\n",
        "# Note: This assumes binary classification. For multi-class, you'll need to modify this.\n",
        "mAP = average_precision_score(y_true, y_pred[:, 1])\n",
        "\n",
        "# Create confusion matrix\n",
        "cm = confusion_matrix(y_true, y_pred_classes)\n",
        "\n",
        "# Log the metrics\n",
        "with open(log_file, 'a') as f:\n",
        "    f.write(f\"Testing Accuracy: {accuracy:.4f}\\n\")\n",
        "    f.write(f\"Precision: {precision:.4f}\\n\")\n",
        "    f.write(f\"Recall: {recall:.4f}\\n\")\n",
        "    f.write(f\"F1 Score: {f1:.4f}\\n\")\n",
        "    f.write(f\"mAP: {mAP:.4f}\\n\")\n",
        "    f.flush()\n",
        "\n",
        "# Plot and save confusion matrix\n",
        "plt.figure(figsize=(10, 8))\n",
        "sns.heatmap(cm, annot=True, fmt='d', cmap='Blues')\n",
        "plt.title('Confusion Matrix')\n",
        "plt.ylabel('True Label')\n",
        "plt.xlabel('Predicted Label')\n",
        "plt.savefig('confusion_matrix.png')\n",
        "plt.close()\n",
        "\n",
        "# Print metrics\n",
        "print(f\"Testing Accuracy: {accuracy:.4f}\")\n",
        "print(f\"Precision: {precision:.4f}\")\n",
        "print(f\"Recall: {recall:.4f}\")\n",
        "print(f\"F1 Score: {f1:.4f}\")\n",
        "print(f\"mAP: {mAP:.4f}\")\n",
        "print(\"Confusion Matrix saved as 'confusion_matrix.png'\")\n",
        "\n",
        "# Save model\n",
        "model.save(f\"/app/data/{model_name}_{}.keras\")"
      ]
    },
    {
      "cell_type": "code",
      "execution_count": null,
      "metadata": {
        "id": "VTQ4kolqjP05"
      },
      "outputs": [
        {
          "name": "stdout",
          "output_type": "stream",
          "text": [
            "Testing Accuracy:  0.8379\n"
          ]
        }
      ],
      "source": [
        "# loss, accuracy = model.evaluate(test_generator, verbose=False)\n",
        "print(\"Testing Accuracy:  {:.4f}\".format(accuracy))\n",
        "with open(log_file, 'a') as f:\n",
        "    f.write(f\"Testing Accuracy:  {accuracy:.4f}\\n\")\n",
        "    f.flush()\n",
        "\n",
        "# save model\n",
        "model.save(\"tf_model.keras\")\n"
      ]
    }
  ],
  "metadata": {
    "colab": {
      "provenance": []
    },
    "kernelspec": {
      "display_name": "Python 3 (ipykernel)",
      "language": "python",
      "name": "python3"
    },
    "language_info": {
      "codemirror_mode": {
        "name": "ipython",
        "version": 3
      },
      "file_extension": ".py",
      "mimetype": "text/x-python",
      "name": "python",
      "nbconvert_exporter": "python",
      "pygments_lexer": "ipython3",
      "version": "3.11.0rc1"
    }
  },
  "nbformat": 4,
  "nbformat_minor": 0
}
